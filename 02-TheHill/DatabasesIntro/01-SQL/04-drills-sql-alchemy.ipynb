{
 "cells": [
  {
   "cell_type": "markdown",
   "metadata": {
    "id": "UGmFF6jc3L3q"
   },
   "source": [
    "# SQL Alchemy: Drill\n",
    "\n",
    "We will create a small database that contains quotes from authors and the name of the author. For this exercise, we will use `SQLite` which is very easy to implement. But don't forget that the advantage of ORMs is that they can be used in the same way, no matter what the database."
   ]
  },
  {
   "cell_type": "markdown",
   "metadata": {
    "id": "6mlY8-GS48_p"
   },
   "source": [
    "## What Is SQLite?  \n",
    "\n",
    "[SQLite](https://www.sqlite.org/index.html) is a C-language library that implements a small, fast, self-contained, high-reliability, full-featured, SQL database engine. SQLite is the most used database engine in the world. It is built into all mobile phones and most computers and comes bundled inside countless other applications that people use every day."
   ]
  },
  {
   "cell_type": "markdown",
   "metadata": {
    "id": "139VJ7Jr5uhL"
   },
   "source": [
    "The imports: <p style=\"color:red;\"><b >⚠️ You must have SQL_Alchemy version 1.4 or higher</b></p>\n",
    "\n",
    "We have already imported some helpful modules to approach the drill. Don't forget to check the documentation to review some of them as needed. "
   ]
  },
  {
   "cell_type": "code",
   "execution_count": 1,
   "metadata": {
    "id": "Bv03iT3758eQ"
   },
   "outputs": [],
   "source": [
    "#!pip install sqlalchemy==1.4"
   ]
  },
  {
   "cell_type": "code",
   "execution_count": 5,
   "metadata": {
    "id": "XXUNjQ0jiy65"
   },
   "outputs": [],
   "source": [
    "from sqlalchemy import create_engine\n",
    "import datetime as dt\n",
    "from sqlalchemy import Column, Date, Integer, Text, create_engine, inspect\n",
    "from sqlalchemy.orm import registry, sessionmaker"
   ]
  },
  {
   "cell_type": "markdown",
   "metadata": {
    "id": "ylb0QujzdsUm"
   },
   "source": [
    "## ORM configuration\n",
    "---"
   ]
  },
  {
   "cell_type": "markdown",
   "metadata": {
    "id": "0oSJE3yCZ9zS"
   },
   "source": [
    "**1. Create an `engine` variable that contains an instance of `create_engine()`.**  \n",
    " \n",
    "You must specify the type of database, in this case sqlite, and specify the path to the database `/content/data.db`. *(You can put the path you want if you don't use Google Colab)* `create_engine()` will create the data.db file if it does not exist."
   ]
  },
  {
   "cell_type": "markdown",
   "metadata": {},
   "source": [
    "Creating an engine in SQLAlchemy is a fundamental step for interacting with a database. Here’s why you would create an engine and what it enables you to do:\n",
    "\n",
    "### Purpose of Creating an Engine\n",
    "\n",
    "**1. Establish a Database Connection:**\n",
    "\n",
    "The engine acts as the primary interface for connecting to your database. It provides a source of connectivity that SQLAlchemy uses to execute SQL commands and transactions.\n",
    "\n",
    "**2. Database Operations:**\n",
    "\n",
    "Once the engine is created, you can perform various database operations, such as creating tables, inserting data, querying data, and managing transactions.\n",
    "\n",
    "**3. Configuration Management:**\n",
    "\n",
    "The engine allows you to configure and manage database-specific settings like connection pooling, timeout settings, and echoing SQL statements for debugging.\n",
    "\n",
    "**4. SQL Execution:**\n",
    "\n",
    "The engine enables raw SQL execution through methods like `engine.execute()`, which is useful for running custom SQL commands directly.\n",
    "\n",
    "**5. Session Management:**\n",
    "\n",
    "The engine is used by SQLAlchemy’s ORM (Object-Relational Mapping) system to create sessions, which are used to manage the database transactions and operations within your application.\n"
   ]
  },
  {
   "cell_type": "code",
   "execution_count": 6,
   "metadata": {
    "id": "lT1hwcOpP8IY"
   },
   "outputs": [],
   "source": [
    "engine = create_engine('sqlite:///NewDataBase.db')"
   ]
  },
  {
   "cell_type": "markdown",
   "metadata": {
    "id": "UTRefMob2CDy"
   },
   "source": [
    "**2. Create a `mapper_registry` variable which contains an instance of `registry()`.**"
   ]
  },
  {
   "cell_type": "markdown",
   "metadata": {},
   "source": [
    "In SQLAlchemy, `registry` is a part of the SQLAlchemy 2.0 API and represents a new approach to managing mappings between Python classes and database tables. This approach is more explicit and flexible compared to the older `declarative_base()` method. Here’s a detailed explanation:\n",
    "\n",
    "### What is `registry`?\n",
    "\n",
    "`registry` is a function from the `sqlalchemy.orm` module that creates a new `MapperRegistry` object. This object manages the mapping between your Python classes and the database tables. It provides an alternative to the traditional `declarative_base()` approach used for ORM (Object-Relational Mapping) in SQLAlchemy.\n"
   ]
  },
  {
   "cell_type": "code",
   "execution_count": 7,
   "metadata": {},
   "outputs": [],
   "source": [
    "mapper_registry = registry()"
   ]
  },
  {
   "cell_type": "markdown",
   "metadata": {
    "id": "wxWjmbZAa3gq"
   },
   "source": [
    "**3. Create a `Base` variable which contains an instance of `mapper_registry.generate_base()`.**  \n",
    "\n",
    "This method allows to manage and create the models that we will use later."
   ]
  },
  {
   "cell_type": "markdown",
   "metadata": {},
   "source": [
    "This line of code creates a new base class for your ORM (Object-Relational Mapping) models. The base class is a crucial part of SQLAlchemy’s ORM system because it is used to define and manage the mappings between your Python classes and database tables.\n",
    "\n",
    "### Purpose of the Base Class:\n",
    "\n",
    "**1. Central Point for Mappings:**\n",
    "- The base class serves as a central point for defining and managing your ORM models. All of your model classes (which represent database tables) will inherit from this base class.\n",
    "\n",
    "**2. Metadata Management:**\n",
    "- The base class holds the metadata associated with the ORM models. Metadata includes information about the table structure, columns, and relationships.\n"
   ]
  },
  {
   "cell_type": "code",
   "execution_count": 8,
   "metadata": {
    "id": "jMvofMmmP_7D"
   },
   "outputs": [],
   "source": [
    "Base = mapper_registry.generate_base()"
   ]
  },
  {
   "cell_type": "markdown",
   "metadata": {
    "id": "pRe0HaEeb1sV"
   },
   "source": [
    "**4. Create a `Maker` variable that contains an instance of `sessionmaker()`.**  \n",
    "\n",
    "This class allows us to manage transactions with the database."
   ]
  },
  {
   "cell_type": "code",
   "execution_count": 10,
   "metadata": {
    "id": "Myb-10BVQHl9"
   },
   "outputs": [],
   "source": [
    "Maker = sessionmaker(bind=engine)"
   ]
  },
  {
   "cell_type": "markdown",
   "metadata": {},
   "source": [
    "### `sessionmaker` Function:\n",
    "\n",
    "- **`sessionmaker`** is a factory function provided by SQLAlchemy for creating `Session` objects. A `Session` is a workspace for interacting with the database, where you perform transactions and queries.\n",
    "\n",
    "### `bind=engine`:\n",
    "\n",
    "- The `bind` parameter connects the `Session` to the specific `engine` (which is created using `create_engine`). The `engine` defines the database connection parameters, such as the database type and location.\n",
    "- By binding the `engine` to the `sessionmaker`, you ensure that all sessions created by this factory will use the same database connection configuration.\n",
    "\n",
    "### `Maker` Variable:\n",
    "\n",
    "- The `Maker` variable now holds a session factory. It is not yet an actual session, but a callable that can be used to create `Session` instances.\n"
   ]
  },
  {
   "cell_type": "markdown",
   "metadata": {
    "id": "6Xhdtl4Jb6w2"
   },
   "source": [
    "**5. Create a `session` variable.**  \n",
    "\n",
    "This variable contains an instance of `Maker` with the parameter `bind` which has the value `engine`."
   ]
  },
  {
   "cell_type": "code",
   "execution_count": 11,
   "metadata": {
    "id": "q86kcOp0QtgG"
   },
   "outputs": [],
   "source": [
    "session = Maker()"
   ]
  },
  {
   "cell_type": "markdown",
   "metadata": {
    "id": "VY9PhgFedzF8"
   },
   "source": [
    "## Creation of the model\n",
    "---"
   ]
  },
  {
   "cell_type": "markdown",
   "metadata": {
    "id": "eoDyzNBcYfJk"
   },
   "source": [
    "**6. Create a `class Quotation` which inherits from the previously created `Base` class.**\n",
    "\n",
    "This class will have 4 attributes: \n",
    "\n",
    "- **\\_\\_tablename\\_\\_**: which contains the name of the `quotation` table that we are going to use.\n",
    "\n",
    "- **id**: which has the method `Column`. This column will be an `Integer` attribute and will have the `primary_key` attribute set to `True`\n",
    "\n",
    "- **quote_quotation**: which has the method `Column` which will have an attribute `Text` and the attribute `nullable` set to `False`\n",
    "\n",
    "- **quote_author**: which has the `Column` method and will have a `Text` attribute and the `nullable` attribute set to `False`\n",
    "\n"
   ]
  },
  {
   "cell_type": "code",
   "execution_count": 12,
   "metadata": {
    "id": "h-wbmi-eT6iv"
   },
   "outputs": [],
   "source": [
    "class Quotation(Base):\n",
    "    __tablename__ = \"quotation\"\n",
    "    \n",
    "    id = Column(Integer, primary_key=True)\n",
    "    quote_quotation = Column(Text, nullable=False)\n",
    "    quote_author = Column(Text, nullable=False)"
   ]
  },
  {
   "cell_type": "markdown",
   "metadata": {
    "id": "ptgjvCWkpvjt"
   },
   "source": [
    "**7. Create the table using the method `Base.metadata.create_all()`.**  \n",
    "Assign the `engine` value to the bind `parameter`."
   ]
  },
  {
   "cell_type": "markdown",
   "metadata": {},
   "source": [
    "### 1. What `Base.metadata.create_all()` Does:\n",
    "\n",
    "- **Purpose:**\n",
    "  - The method `create_all()` is used to create all tables defined by models that inherit from the `Base` class in the specified database.\n",
    "\n",
    "- **Context:**\n",
    "  - `Base` is an instance of `declarative_base` (or `MapperRegistry.generate_base()` in SQLAlchemy 2.0) which keeps track of all the ORM-mapped classes and their metadata.\n",
    "\n",
    "### 2. Metadata Object:\n",
    "\n",
    "- **Metadata:**\n",
    "  - `Base.metadata` is an instance of SQLAlchemy's `MetaData` object. This object stores information about the tables and columns defined in the ORM models.\n",
    "\n",
    "- **Tables Definition:**\n",
    "  - `Base.metadata` includes a list of all the tables that have been defined by the ORM classes which inherit from `Base`. This list is derived from the `__table__` attribute in each class.\n",
    "\n",
    "### 3. `engine` Parameter:\n",
    "\n",
    "- **Engine:**\n",
    "  - The `engine` is a SQLAlchemy object that represents the database connection. It provides the database dialect and connection details.\n",
    "\n",
    "- **Bind:**\n",
    "  - The `engine` parameter is used to execute SQL commands. It connects to the actual database where the tables will be created.\n",
    "\n",
    "### 4. Internal Execution:\n",
    "\n",
    "- **Inspection:**\n",
    "  - SQLAlchemy inspects `Base.metadata` and finds the `quotation` table.\n",
    "\n",
    "- **SQL Generation:**\n",
    "  - It generates a `CREATE TABLE` statement for the `quotation` table based on the metadata information.\n"
   ]
  },
  {
   "cell_type": "code",
   "execution_count": 13,
   "metadata": {
    "id": "lKrneBSppt3M"
   },
   "outputs": [],
   "source": [
    "Base.metadata.create_all(engine)"
   ]
  },
  {
   "cell_type": "markdown",
   "metadata": {
    "id": "6WagPpwseVEz"
   },
   "source": [
    "## The transactions\n",
    "---\n",
    "\n",
    "### Create"
   ]
  },
  {
   "cell_type": "markdown",
   "metadata": {
    "id": "fEhrlDXGeat9"
   },
   "source": [
    "**8. Create a varible `new_quotation` that contains an instance of `Quotation`.** \n",
    "\n",
    "For the `quote_quotation` parameter assign the following sentence:\n",
    "> “The world as we have created it is a process of our thinking. It cannot be changed without changing our thinking.”\n",
    "\n",
    "For the parameter `quote_author` assign the value *'Albert Einstein'*"
   ]
  },
  {
   "cell_type": "code",
   "execution_count": 14,
   "metadata": {
    "id": "9aQCVKrKf0lk"
   },
   "outputs": [],
   "source": [
    "new_quotation = Quotation(quote_quotation=\"The world as we created it is a process of our thinking. It cannot be changed without changing our thinking.\", quote_author = \"Albert Einstein\")"
   ]
  },
  {
   "cell_type": "markdown",
   "metadata": {
    "id": "fHgjox4_gRM8"
   },
   "source": [
    "**9. You will have to add the transaction. To do this, use the `session.add() ` method with `new_quotation` as argument.**"
   ]
  },
  {
   "cell_type": "code",
   "execution_count": 15,
   "metadata": {
    "id": "q3ffj9oTf48Y"
   },
   "outputs": [],
   "source": [
    "session.add(new_quotation)"
   ]
  },
  {
   "cell_type": "markdown",
   "metadata": {
    "id": "lRBMGIzig3wD"
   },
   "source": [
    "**10. The transaction has been added but not yet executed. To finish the transaction, you must use the `session.commit()` method.**\n",
    "You don't have to pass any arguments."
   ]
  },
  {
   "cell_type": "code",
   "execution_count": 16,
   "metadata": {
    "id": "4HmA8K6Gg4cd"
   },
   "outputs": [],
   "source": [
    "session.commit()"
   ]
  },
  {
   "cell_type": "markdown",
   "metadata": {
    "id": "DPW8bSAlhms7"
   },
   "source": [
    "**11. Add all these sentences to the database (use a single commit):**"
   ]
  },
  {
   "cell_type": "code",
   "execution_count": 17,
   "metadata": {
    "id": "kfaQ_gESh21a"
   },
   "outputs": [],
   "source": [
    "data = [\n",
    "    {\"author\": \"Oscar Wilde\", \"text\": \"Beauty is in the eyes of the beholder.\"},\n",
    "    {\"author\": \"Marcel Proust\", \"text\": \"Beauty is not in the colors, but in their harmony.\"},\n",
    "    {\"author\": \"Philippe Claudel\", \"text\": \"Each letter has a scent, each verb, a perfume. Each word diffuses in the memory a place and its fragrances. And the text that gradually weaves itself, with the combined hazards of the alphabet and remembrance, then becomes the wonderful river, a thousand times branched and fragrant, of our dreamed life, our lived life, our life to come, which in turn carries us away and reveals us.\"},\n",
    "    {\"author\": \"Tintin\", \"text\": \"That’s one small step for man, on giant leap for mankind.\"},\n",
    "    {\"author\": \"François Weyergans\", \"text\": \"A dream that is not interpreted is like a letter that is not read.\"},\n",
    "    {\"author\": \"Vincent Van Gogh\", \"text\": \"I dream my painting, then I paint my dream.\"},\n",
    "    {\"author\": \"Hugues de Saint-Victor\", \"text\": \"An idle young man is like a young bull without the yoke.\"},\n",
    "    {\"author\": \"George Bernard Shaw\", \"text\": \"Marriage is the story of a young man and a young girl who pick a flower and receive an avalanche on their heads.\"},\n",
    "    {\"author\": \"Alain Tastet\", \"text\": \"I never dream at night, my only dream is to be awake beside you...\"},\n",
    "    {\"author\": \"Oscar Wilde\", \"text\":\"Be yourself; everyone else is already taken.\"},\n",
    "    {\"author\": \"Alain Tastet\", \"text\":\"This is a false quote...\"}\n",
    "]"
   ]
  },
  {
   "cell_type": "code",
   "execution_count": 18,
   "metadata": {
    "id": "jXqCvLDij4bD"
   },
   "outputs": [],
   "source": [
    "for element in data:\n",
    "    quote = Quotation(quote_quotation=element[\"text\"], quote_author=element[\"author\"])\n",
    "    session.add(quote)\n",
    "session.commit()        "
   ]
  },
  {
   "cell_type": "markdown",
   "metadata": {
    "id": "hQFegS_cjRBF"
   },
   "source": [
    "### Read\n",
    "\n",
    "**12. Display all quotes and authors in this form: 'This is a quote' - Author**"
   ]
  },
  {
   "cell_type": "markdown",
   "metadata": {},
   "source": [
    "### Session Query\n",
    "\n",
    "- `session.query(Quotation)`: This creates a SQLAlchemy `Query` object for the `Quotation` class. This object represents a query that will be executed against the database to retrieve records from the `quotation` table.\n",
    "\n",
    "### Retrieve All Records\n",
    "\n",
    "- `.all()`: This method executes the query and retrieves all records from the `quotation` table. The result is returned as a list of `Quotation` objects.\n"
   ]
  },
  {
   "cell_type": "code",
   "execution_count": 19,
   "metadata": {
    "colab": {
     "base_uri": "https://localhost:8080/"
    },
    "id": "zioBwugkC_H3",
    "outputId": "0cdf1d0d-a7b4-45e8-ca22-58d97aaf30c4"
   },
   "outputs": [
    {
     "name": "stdout",
     "output_type": "stream",
     "text": [
      "'The world as we created it is a process of our thinking. It cannot be changed without changing our thinking.' - Albert Einstein\n",
      "'Beauty is in the eyes of the beholder.' - Oscar Wilde\n",
      "'Beauty is not in the colors, but in their harmony.' - Marcel Proust\n",
      "'Each letter has a scent, each verb, a perfume. Each word diffuses in the memory a place and its fragrances. And the text that gradually weaves itself, with the combined hazards of the alphabet and remembrance, then becomes the wonderful river, a thousand times branched and fragrant, of our dreamed life, our lived life, our life to come, which in turn carries us away and reveals us.' - Philippe Claudel\n",
      "'That’s one small step for man, on giant leap for mankind.' - Tintin\n",
      "'A dream that is not interpreted is like a letter that is not read.' - François Weyergans\n",
      "'I dream my painting, then I paint my dream.' - Vincent Van Gogh\n",
      "'An idle young man is like a young bull without the yoke.' - Hugues de Saint-Victor\n",
      "'Marriage is the story of a young man and a young girl who pick a flower and receive an avalanche on their heads.' - George Bernard Shaw\n",
      "'I never dream at night, my only dream is to be awake beside you...' - Alain Tastet\n",
      "'Be yourself; everyone else is already taken.' - Oscar Wilde\n",
      "'This is a false quote...' - Alain Tastet\n"
     ]
    }
   ],
   "source": [
    "quotes = session.query(Quotation).all()\n",
    "\n",
    "for quote in quotes:\n",
    "    print(f\"'{quote.quote_quotation}' - {quote.quote_author}\")"
   ]
  },
  {
   "cell_type": "markdown",
   "metadata": {
    "id": "NAsd9Zbsk73W"
   },
   "source": [
    "**13. Display the sentence with `id 8`.**"
   ]
  },
  {
   "cell_type": "code",
   "execution_count": 22,
   "metadata": {
    "id": "SujPf7qGlVsA"
   },
   "outputs": [
    {
     "name": "stdout",
     "output_type": "stream",
     "text": [
      "'An idle young man is like a young bull without the yoke.'\n"
     ]
    }
   ],
   "source": [
    "quote = session.query(Quotation).filter_by(id=8).first()\n",
    "print(f\"'{quote.quote_quotation}'\")"
   ]
  },
  {
   "cell_type": "markdown",
   "metadata": {
    "id": "Tub_Iin4lWNh"
   },
   "source": [
    "**14. Display all quotes by `Oscar Wilde`.**\n"
   ]
  },
  {
   "cell_type": "code",
   "execution_count": 25,
   "metadata": {
    "id": "ibptZxZJlg2X"
   },
   "outputs": [
    {
     "name": "stdout",
     "output_type": "stream",
     "text": [
      "'Beauty is in the eyes of the beholder.'\n",
      "'Be yourself; everyone else is already taken.'\n"
     ]
    }
   ],
   "source": [
    "quotes = session.query(Quotation).filter_by(quote_author='Oscar Wilde').all()\n",
    "for quote in quotes:\n",
    "    print(f\"'{quote.quote_quotation}'\")"
   ]
  },
  {
   "cell_type": "markdown",
   "metadata": {
    "id": "vRtxs03pjVtb"
   },
   "source": [
    "### Update \n",
    "\n",
    "**15. Make an update of the sentence:** \n",
    ">\"That’s one small step for man, on giant leap for mankind.\" \n",
    "\n",
    "and **replace the author who is `Tintin` by `Neil Armstrong`**."
   ]
  },
  {
   "cell_type": "code",
   "execution_count": 28,
   "metadata": {
    "id": "3PgFPT1WjUsY"
   },
   "outputs": [
    {
     "name": "stdout",
     "output_type": "stream",
     "text": [
      "Updated quote: 'That’s one small step for man, on giant leap for mankind.' - Neil Armstrong\n"
     ]
    }
   ],
   "source": [
    "quote_to_update = session.query(Quotation).filter_by(\n",
    "    quote_quotation=\"That’s one small step for man, on giant leap for mankind.\"\n",
    ").first()\n",
    "\n",
    "quote_to_update.quote_author = \"Neil Armstrong\"\n",
    "session.commit()\n",
    "\n",
    "updated_quote = session.query(Quotation).filter_by(quote_quotation=\"That’s one small step for man, on giant leap for mankind.\").first()\n",
    "print(f\"Updated quote: '{updated_quote.quote_quotation}' - {updated_quote.quote_author}\")\n"
   ]
  },
  {
   "cell_type": "markdown",
   "metadata": {
    "id": "LjRrmfj2lwhQ"
   },
   "source": [
    "### Delete\n",
    "\n",
    "**16. Delete all quotes by `Alain Tastet`.**"
   ]
  },
  {
   "cell_type": "code",
   "execution_count": 29,
   "metadata": {
    "id": "NV0UUxcOmmwq"
   },
   "outputs": [
    {
     "name": "stdout",
     "output_type": "stream",
     "text": [
      "No remaining quotes by Alain Tastet.\n"
     ]
    }
   ],
   "source": [
    "quotes_to_delete = session.query(Quotation).filter_by(quote_author='Alain Tastet').all()\n",
    "\n",
    "for quote in quotes_to_delete:\n",
    "    session.delete(quote)\n",
    "\n",
    "session.commit()\n",
    "\n",
    "remaining_quotes = session.query(Quotation).filter_by(quote_author='Alain Tastet').all()\n",
    "if not remaining_quotes:\n",
    "    print(\"No remaining quotes by Alain Tastet.\")"
   ]
  },
  {
   "cell_type": "markdown",
   "metadata": {
    "id": "-e9EMKy8mnOS"
   },
   "source": [
    "**17. Delete the quote with the `id 2`.** "
   ]
  },
  {
   "cell_type": "code",
   "execution_count": 30,
   "metadata": {
    "id": "JswdTo5Kmrwr"
   },
   "outputs": [
    {
     "name": "stdout",
     "output_type": "stream",
     "text": [
      "No remaining quotes with id 2.\n"
     ]
    }
   ],
   "source": [
    "quote_to_delete = session.query(Quotation).filter_by(id=2).first()\n",
    "    \n",
    "session.delete(quote_to_delete)\n",
    "\n",
    "session.commit()\n",
    "\n",
    "remaining_quotes = session.query(Quotation).filter_by(id=2).first()\n",
    "if not remaining_quotes:\n",
    "    print(\"No remaining quotes with id 2.\")"
   ]
  },
  {
   "cell_type": "markdown",
   "metadata": {},
   "source": [
    "## That's it!\n",
    "You have built a database and acquired many new tools to interact with it. On to the next step!\n",
    "\n",
    "![tools](https://media.giphy.com/media/xT0xekLZmeC54FCTJu/giphy-downsized-large.gif) \n",
    "\n",
    "## Resources\n",
    "\n",
    "- [Udacity Database Setup using SQLAlchemy](https://github.com/udacity/Full-Stack-Foundations/blob/master/Lesson_1/database_setup.py)\n",
    "- [Cheat sheet SQL Alchemy](https://www.pythonsheets.com/notes/python-sqlalchemy.html)"
   ]
  }
 ],
 "metadata": {
  "colab": {
   "collapsed_sections": [],
   "name": "drill_sql_alchemy.ipynb",
   "provenance": []
  },
  "kernelspec": {
   "display_name": "Python 3.9.13 64-bit (microsoft store)",
   "language": "python",
   "name": "python3"
  },
  "language_info": {
   "codemirror_mode": {
    "name": "ipython",
    "version": 3
   },
   "file_extension": ".py",
   "mimetype": "text/x-python",
   "name": "python",
   "nbconvert_exporter": "python",
   "pygments_lexer": "ipython3",
   "version": "3.12.0"
  },
  "vscode": {
   "interpreter": {
    "hash": "5af58ead5434bcaec4ba320c097b4ab95f4d47b5cc097d838e053a401accc545"
   }
  }
 },
 "nbformat": 4,
 "nbformat_minor": 1
}
